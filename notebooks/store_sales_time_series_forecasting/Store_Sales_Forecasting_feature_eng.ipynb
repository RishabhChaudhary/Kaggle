{
 "cells": [
  {
   "cell_type": "markdown",
   "metadata": {},
   "source": [
    "\n",
    "# 🏪 Store Sales Time Series Forecasting 📈\n",
    "\n",
    "### 1. Introduction\n",
    "#### 1.1. Problem Statement\n",
    "#### 1.2. Data Description\n",
    "#### 1.3. Objective\n",
    "### 2. Data Exploration\n",
    "#### 2.1. Importing Libraries\n",
    "#### 2.2. Loading Data\n",
    "#### 2.3. Data Exploration\n",
    "##### 2.3.1. Univariant Analysis\n",
    "##### 2.3.2. Bivariant Analysis\n",
    "##### 2.3.3. Multivariant Analysis\n",
    "### 3. Data Cleaning\n",
    "### 4. Feature Engineering\n",
    "### 5. Data Preprocessing\n",
    "#### 5.1. Data Transformation\n",
    "### 6. Model Building\n",
    "#### 6.1. Baseline Model\n",
    "### 7. Model Evaluation\n"
   ]
  },
  {
   "cell_type": "markdown",
   "metadata": {},
   "source": [
    "We have already covered the data exploration and data cleaning parts in the previous notebook. In this notebook, we will be performing the following tasks:\n",
    "* Feature Engineering\n",
    "* Data Preprocessing"
   ]
  },
  {
   "cell_type": "code",
   "execution_count": 1,
   "metadata": {},
   "outputs": [],
   "source": [
    "# Loading libraries\n",
    "import pandas as pd\n",
    "import numpy as np\n",
    "from datetime import timedelta\n",
    "import matplotlib.pyplot as plt\n",
    "import seaborn as sns\n",
    "import plotly\n",
    "import datetime\n",
    "import os\n",
    "import warnings\n",
    "\n",
    "sns.set_context('notebook', font_scale=1.5)\n",
    "warnings.filterwarnings('ignore')"
   ]
  },
  {
   "cell_type": "code",
   "execution_count": 2,
   "metadata": {},
   "outputs": [],
   "source": [
    "train = pd.read_csv('../../input/store_sales_time_series_forecasting/train_merged.csv')\n",
    "test = pd.read_csv('../../input/store_sales_time_series_forecasting/test_merged.csv')"
   ]
  },
  {
   "cell_type": "code",
   "execution_count": 3,
   "metadata": {},
   "outputs": [
    {
     "data": {
      "text/html": [
       "<div>\n",
       "<style scoped>\n",
       "    .dataframe tbody tr th:only-of-type {\n",
       "        vertical-align: middle;\n",
       "    }\n",
       "\n",
       "    .dataframe tbody tr th {\n",
       "        vertical-align: top;\n",
       "    }\n",
       "\n",
       "    .dataframe thead th {\n",
       "        text-align: right;\n",
       "    }\n",
       "</style>\n",
       "<table border=\"1\" class=\"dataframe\">\n",
       "  <thead>\n",
       "    <tr style=\"text-align: right;\">\n",
       "      <th></th>\n",
       "      <th>date</th>\n",
       "      <th>store_nbr</th>\n",
       "      <th>family</th>\n",
       "      <th>sales</th>\n",
       "      <th>onpromotion</th>\n",
       "      <th>city</th>\n",
       "      <th>state</th>\n",
       "      <th>type</th>\n",
       "      <th>cluster</th>\n",
       "      <th>type_local</th>\n",
       "      <th>type_national</th>\n",
       "      <th>type_reg</th>\n",
       "      <th>dcoilwtico</th>\n",
       "      <th>is_national_holiday</th>\n",
       "    </tr>\n",
       "  </thead>\n",
       "  <tbody>\n",
       "    <tr>\n",
       "      <th>0</th>\n",
       "      <td>2013-01-01</td>\n",
       "      <td>1</td>\n",
       "      <td>AUTOMOTIVE</td>\n",
       "      <td>0.0</td>\n",
       "      <td>0</td>\n",
       "      <td>Quito</td>\n",
       "      <td>Pichincha</td>\n",
       "      <td>D</td>\n",
       "      <td>13</td>\n",
       "      <td>Work Day</td>\n",
       "      <td>Holiday</td>\n",
       "      <td>Work Day</td>\n",
       "      <td>93.14</td>\n",
       "      <td>99999</td>\n",
       "    </tr>\n",
       "    <tr>\n",
       "      <th>1</th>\n",
       "      <td>2013-01-01</td>\n",
       "      <td>1</td>\n",
       "      <td>BABY CARE</td>\n",
       "      <td>0.0</td>\n",
       "      <td>0</td>\n",
       "      <td>Quito</td>\n",
       "      <td>Pichincha</td>\n",
       "      <td>D</td>\n",
       "      <td>13</td>\n",
       "      <td>Work Day</td>\n",
       "      <td>Holiday</td>\n",
       "      <td>Work Day</td>\n",
       "      <td>93.14</td>\n",
       "      <td>99999</td>\n",
       "    </tr>\n",
       "    <tr>\n",
       "      <th>2</th>\n",
       "      <td>2013-01-01</td>\n",
       "      <td>1</td>\n",
       "      <td>BEAUTY</td>\n",
       "      <td>0.0</td>\n",
       "      <td>0</td>\n",
       "      <td>Quito</td>\n",
       "      <td>Pichincha</td>\n",
       "      <td>D</td>\n",
       "      <td>13</td>\n",
       "      <td>Work Day</td>\n",
       "      <td>Holiday</td>\n",
       "      <td>Work Day</td>\n",
       "      <td>93.14</td>\n",
       "      <td>99999</td>\n",
       "    </tr>\n",
       "    <tr>\n",
       "      <th>3</th>\n",
       "      <td>2013-01-01</td>\n",
       "      <td>1</td>\n",
       "      <td>BEVERAGES</td>\n",
       "      <td>0.0</td>\n",
       "      <td>0</td>\n",
       "      <td>Quito</td>\n",
       "      <td>Pichincha</td>\n",
       "      <td>D</td>\n",
       "      <td>13</td>\n",
       "      <td>Work Day</td>\n",
       "      <td>Holiday</td>\n",
       "      <td>Work Day</td>\n",
       "      <td>93.14</td>\n",
       "      <td>99999</td>\n",
       "    </tr>\n",
       "    <tr>\n",
       "      <th>4</th>\n",
       "      <td>2013-01-01</td>\n",
       "      <td>1</td>\n",
       "      <td>BOOKS</td>\n",
       "      <td>0.0</td>\n",
       "      <td>0</td>\n",
       "      <td>Quito</td>\n",
       "      <td>Pichincha</td>\n",
       "      <td>D</td>\n",
       "      <td>13</td>\n",
       "      <td>Work Day</td>\n",
       "      <td>Holiday</td>\n",
       "      <td>Work Day</td>\n",
       "      <td>93.14</td>\n",
       "      <td>99999</td>\n",
       "    </tr>\n",
       "  </tbody>\n",
       "</table>\n",
       "</div>"
      ],
      "text/plain": [
       "         date  store_nbr      family  sales  onpromotion   city      state  \\\n",
       "0  2013-01-01          1  AUTOMOTIVE    0.0            0  Quito  Pichincha   \n",
       "1  2013-01-01          1   BABY CARE    0.0            0  Quito  Pichincha   \n",
       "2  2013-01-01          1      BEAUTY    0.0            0  Quito  Pichincha   \n",
       "3  2013-01-01          1   BEVERAGES    0.0            0  Quito  Pichincha   \n",
       "4  2013-01-01          1       BOOKS    0.0            0  Quito  Pichincha   \n",
       "\n",
       "  type  cluster type_local type_national  type_reg  dcoilwtico  \\\n",
       "0    D       13   Work Day       Holiday  Work Day       93.14   \n",
       "1    D       13   Work Day       Holiday  Work Day       93.14   \n",
       "2    D       13   Work Day       Holiday  Work Day       93.14   \n",
       "3    D       13   Work Day       Holiday  Work Day       93.14   \n",
       "4    D       13   Work Day       Holiday  Work Day       93.14   \n",
       "\n",
       "   is_national_holiday  \n",
       "0                99999  \n",
       "1                99999  \n",
       "2                99999  \n",
       "3                99999  \n",
       "4                99999  "
      ]
     },
     "execution_count": 3,
     "metadata": {},
     "output_type": "execute_result"
    }
   ],
   "source": [
    "train.head()"
   ]
  },
  {
   "cell_type": "code",
   "execution_count": 4,
   "metadata": {},
   "outputs": [
    {
     "data": {
      "text/html": [
       "<div>\n",
       "<style scoped>\n",
       "    .dataframe tbody tr th:only-of-type {\n",
       "        vertical-align: middle;\n",
       "    }\n",
       "\n",
       "    .dataframe tbody tr th {\n",
       "        vertical-align: top;\n",
       "    }\n",
       "\n",
       "    .dataframe thead th {\n",
       "        text-align: right;\n",
       "    }\n",
       "</style>\n",
       "<table border=\"1\" class=\"dataframe\">\n",
       "  <thead>\n",
       "    <tr style=\"text-align: right;\">\n",
       "      <th></th>\n",
       "      <th>id</th>\n",
       "      <th>date</th>\n",
       "      <th>store_nbr</th>\n",
       "      <th>family</th>\n",
       "      <th>onpromotion</th>\n",
       "      <th>city</th>\n",
       "      <th>state</th>\n",
       "      <th>type</th>\n",
       "      <th>cluster</th>\n",
       "      <th>type_local</th>\n",
       "      <th>type_national</th>\n",
       "      <th>type_reg</th>\n",
       "      <th>dcoilwtico</th>\n",
       "    </tr>\n",
       "  </thead>\n",
       "  <tbody>\n",
       "    <tr>\n",
       "      <th>0</th>\n",
       "      <td>3000888</td>\n",
       "      <td>2017-08-16</td>\n",
       "      <td>1</td>\n",
       "      <td>AUTOMOTIVE</td>\n",
       "      <td>0</td>\n",
       "      <td>Quito</td>\n",
       "      <td>Pichincha</td>\n",
       "      <td>D</td>\n",
       "      <td>13</td>\n",
       "      <td>Work Day</td>\n",
       "      <td>Work Day</td>\n",
       "      <td>Work Day</td>\n",
       "      <td>46.8</td>\n",
       "    </tr>\n",
       "    <tr>\n",
       "      <th>1</th>\n",
       "      <td>3000889</td>\n",
       "      <td>2017-08-16</td>\n",
       "      <td>1</td>\n",
       "      <td>BABY CARE</td>\n",
       "      <td>0</td>\n",
       "      <td>Quito</td>\n",
       "      <td>Pichincha</td>\n",
       "      <td>D</td>\n",
       "      <td>13</td>\n",
       "      <td>Work Day</td>\n",
       "      <td>Work Day</td>\n",
       "      <td>Work Day</td>\n",
       "      <td>46.8</td>\n",
       "    </tr>\n",
       "    <tr>\n",
       "      <th>2</th>\n",
       "      <td>3000890</td>\n",
       "      <td>2017-08-16</td>\n",
       "      <td>1</td>\n",
       "      <td>BEAUTY</td>\n",
       "      <td>2</td>\n",
       "      <td>Quito</td>\n",
       "      <td>Pichincha</td>\n",
       "      <td>D</td>\n",
       "      <td>13</td>\n",
       "      <td>Work Day</td>\n",
       "      <td>Work Day</td>\n",
       "      <td>Work Day</td>\n",
       "      <td>46.8</td>\n",
       "    </tr>\n",
       "    <tr>\n",
       "      <th>3</th>\n",
       "      <td>3000891</td>\n",
       "      <td>2017-08-16</td>\n",
       "      <td>1</td>\n",
       "      <td>BEVERAGES</td>\n",
       "      <td>20</td>\n",
       "      <td>Quito</td>\n",
       "      <td>Pichincha</td>\n",
       "      <td>D</td>\n",
       "      <td>13</td>\n",
       "      <td>Work Day</td>\n",
       "      <td>Work Day</td>\n",
       "      <td>Work Day</td>\n",
       "      <td>46.8</td>\n",
       "    </tr>\n",
       "    <tr>\n",
       "      <th>4</th>\n",
       "      <td>3000892</td>\n",
       "      <td>2017-08-16</td>\n",
       "      <td>1</td>\n",
       "      <td>BOOKS</td>\n",
       "      <td>0</td>\n",
       "      <td>Quito</td>\n",
       "      <td>Pichincha</td>\n",
       "      <td>D</td>\n",
       "      <td>13</td>\n",
       "      <td>Work Day</td>\n",
       "      <td>Work Day</td>\n",
       "      <td>Work Day</td>\n",
       "      <td>46.8</td>\n",
       "    </tr>\n",
       "  </tbody>\n",
       "</table>\n",
       "</div>"
      ],
      "text/plain": [
       "        id        date  store_nbr      family  onpromotion   city      state  \\\n",
       "0  3000888  2017-08-16          1  AUTOMOTIVE            0  Quito  Pichincha   \n",
       "1  3000889  2017-08-16          1   BABY CARE            0  Quito  Pichincha   \n",
       "2  3000890  2017-08-16          1      BEAUTY            2  Quito  Pichincha   \n",
       "3  3000891  2017-08-16          1   BEVERAGES           20  Quito  Pichincha   \n",
       "4  3000892  2017-08-16          1       BOOKS            0  Quito  Pichincha   \n",
       "\n",
       "  type  cluster type_local type_national  type_reg  dcoilwtico  \n",
       "0    D       13   Work Day      Work Day  Work Day        46.8  \n",
       "1    D       13   Work Day      Work Day  Work Day        46.8  \n",
       "2    D       13   Work Day      Work Day  Work Day        46.8  \n",
       "3    D       13   Work Day      Work Day  Work Day        46.8  \n",
       "4    D       13   Work Day      Work Day  Work Day        46.8  "
      ]
     },
     "execution_count": 4,
     "metadata": {},
     "output_type": "execute_result"
    }
   ],
   "source": [
    "test.head()"
   ]
  },
  {
   "cell_type": "markdown",
   "metadata": {},
   "source": [
    "## 4. Feature Engineering"
   ]
  },
  {
   "cell_type": "markdown",
   "metadata": {},
   "source": [
    "* Let's create some Lag features for the target variable `Weekly_Sales`:\n",
    "    * sales_1_year_ago\n",
    "    * sales_1_month_ago\n",
    "    * sales_2_weeks_ago\n",
    "    * sales_1_week_ago"
   ]
  },
  {
   "cell_type": "markdown",
   "metadata": {},
   "source": [
    "We need to convert **date** column to **datetime** format before creating lag features. "
   ]
  },
  {
   "cell_type": "code",
   "execution_count": 5,
   "metadata": {},
   "outputs": [],
   "source": [
    "train['date'] = pd.to_datetime(train.date)"
   ]
  },
  {
   "cell_type": "code",
   "execution_count": 6,
   "metadata": {},
   "outputs": [],
   "source": [
    "# define a function that will return calculate the units sold number of a particular product from a particular store.\n",
    "# We need to calculate this for N number of days\n",
    "\n",
    "def get_lag_feature(data, no_of_days, return_Series= False):\n",
    "    data_copy = data.copy()\n",
    "    sample_1 = data_copy[['date', 'store_nbr', 'family', 'sales']]\n",
    "    data_copy['NEW_DATE'] = data_copy.date + timedelta(days = no_of_days)\n",
    "    data_copy['PAST_DATE'] = data_copy.date\n",
    "    \n",
    "    sample_2 = data_copy[['NEW_DATE','PAST_DATE', 'store_nbr', 'family', 'sales']]\n",
    "    final = sample_1.merge(sample_2, how = 'left', left_on = ['date', 'store_nbr', 'family'], right_on = ['NEW_DATE', 'store_nbr', 'family'])\n",
    "    final = final.drop(columns=['NEW_DATE'])\n",
    "    final.fillna(0,inplace = True)\n",
    "    \n",
    "    if return_Series:\n",
    "        return final['sales_y']\n",
    "    else: return final"
   ]
  },
  {
   "cell_type": "code",
   "execution_count": 7,
   "metadata": {},
   "outputs": [],
   "source": [
    "#  create a feature sales_1_year_ago\n",
    "train['sales_1_year_ago'] = get_lag_feature(train, no_of_days=365, return_Series= True)"
   ]
  },
  {
   "cell_type": "code",
   "execution_count": 8,
   "metadata": {},
   "outputs": [],
   "source": [
    "#  create a feature sales_1_month_ago\n",
    "train['sales_1_month_ago'] = get_lag_feature(train, no_of_days=30, return_Series= True)"
   ]
  },
  {
   "cell_type": "code",
   "execution_count": 9,
   "metadata": {},
   "outputs": [],
   "source": [
    "#  create a feature sales_2_week_ago\n",
    "train['sales_2_week_ago'] = get_lag_feature(train, no_of_days=15, return_Series= True)"
   ]
  },
  {
   "cell_type": "code",
   "execution_count": 10,
   "metadata": {},
   "outputs": [],
   "source": [
    "#  create a feature sales_1_week_ago\n",
    "train['sales_1_week_ago'] = get_lag_feature(train, no_of_days=7, return_Series= True)"
   ]
  },
  {
   "cell_type": "code",
   "execution_count": 11,
   "metadata": {},
   "outputs": [
    {
     "data": {
      "text/html": [
       "<div>\n",
       "<style scoped>\n",
       "    .dataframe tbody tr th:only-of-type {\n",
       "        vertical-align: middle;\n",
       "    }\n",
       "\n",
       "    .dataframe tbody tr th {\n",
       "        vertical-align: top;\n",
       "    }\n",
       "\n",
       "    .dataframe thead th {\n",
       "        text-align: right;\n",
       "    }\n",
       "</style>\n",
       "<table border=\"1\" class=\"dataframe\">\n",
       "  <thead>\n",
       "    <tr style=\"text-align: right;\">\n",
       "      <th></th>\n",
       "      <th>date</th>\n",
       "      <th>store_nbr</th>\n",
       "      <th>family</th>\n",
       "      <th>sales</th>\n",
       "      <th>onpromotion</th>\n",
       "      <th>city</th>\n",
       "      <th>state</th>\n",
       "      <th>type</th>\n",
       "      <th>cluster</th>\n",
       "      <th>type_local</th>\n",
       "      <th>type_national</th>\n",
       "      <th>type_reg</th>\n",
       "      <th>dcoilwtico</th>\n",
       "      <th>is_national_holiday</th>\n",
       "      <th>sales_1_year_ago</th>\n",
       "      <th>sales_1_month_ago</th>\n",
       "      <th>sales_2_week_ago</th>\n",
       "      <th>sales_1_week_ago</th>\n",
       "    </tr>\n",
       "  </thead>\n",
       "  <tbody>\n",
       "    <tr>\n",
       "      <th>0</th>\n",
       "      <td>2013-01-01</td>\n",
       "      <td>1</td>\n",
       "      <td>AUTOMOTIVE</td>\n",
       "      <td>0.0</td>\n",
       "      <td>0</td>\n",
       "      <td>Quito</td>\n",
       "      <td>Pichincha</td>\n",
       "      <td>D</td>\n",
       "      <td>13</td>\n",
       "      <td>Work Day</td>\n",
       "      <td>Holiday</td>\n",
       "      <td>Work Day</td>\n",
       "      <td>93.14</td>\n",
       "      <td>99999</td>\n",
       "      <td>0.0</td>\n",
       "      <td>0.0</td>\n",
       "      <td>0.0</td>\n",
       "      <td>0.0</td>\n",
       "    </tr>\n",
       "    <tr>\n",
       "      <th>1</th>\n",
       "      <td>2013-01-01</td>\n",
       "      <td>1</td>\n",
       "      <td>BABY CARE</td>\n",
       "      <td>0.0</td>\n",
       "      <td>0</td>\n",
       "      <td>Quito</td>\n",
       "      <td>Pichincha</td>\n",
       "      <td>D</td>\n",
       "      <td>13</td>\n",
       "      <td>Work Day</td>\n",
       "      <td>Holiday</td>\n",
       "      <td>Work Day</td>\n",
       "      <td>93.14</td>\n",
       "      <td>99999</td>\n",
       "      <td>0.0</td>\n",
       "      <td>0.0</td>\n",
       "      <td>0.0</td>\n",
       "      <td>0.0</td>\n",
       "    </tr>\n",
       "    <tr>\n",
       "      <th>2</th>\n",
       "      <td>2013-01-01</td>\n",
       "      <td>1</td>\n",
       "      <td>BEAUTY</td>\n",
       "      <td>0.0</td>\n",
       "      <td>0</td>\n",
       "      <td>Quito</td>\n",
       "      <td>Pichincha</td>\n",
       "      <td>D</td>\n",
       "      <td>13</td>\n",
       "      <td>Work Day</td>\n",
       "      <td>Holiday</td>\n",
       "      <td>Work Day</td>\n",
       "      <td>93.14</td>\n",
       "      <td>99999</td>\n",
       "      <td>0.0</td>\n",
       "      <td>0.0</td>\n",
       "      <td>0.0</td>\n",
       "      <td>0.0</td>\n",
       "    </tr>\n",
       "    <tr>\n",
       "      <th>3</th>\n",
       "      <td>2013-01-01</td>\n",
       "      <td>1</td>\n",
       "      <td>BEVERAGES</td>\n",
       "      <td>0.0</td>\n",
       "      <td>0</td>\n",
       "      <td>Quito</td>\n",
       "      <td>Pichincha</td>\n",
       "      <td>D</td>\n",
       "      <td>13</td>\n",
       "      <td>Work Day</td>\n",
       "      <td>Holiday</td>\n",
       "      <td>Work Day</td>\n",
       "      <td>93.14</td>\n",
       "      <td>99999</td>\n",
       "      <td>0.0</td>\n",
       "      <td>0.0</td>\n",
       "      <td>0.0</td>\n",
       "      <td>0.0</td>\n",
       "    </tr>\n",
       "    <tr>\n",
       "      <th>4</th>\n",
       "      <td>2013-01-01</td>\n",
       "      <td>1</td>\n",
       "      <td>BOOKS</td>\n",
       "      <td>0.0</td>\n",
       "      <td>0</td>\n",
       "      <td>Quito</td>\n",
       "      <td>Pichincha</td>\n",
       "      <td>D</td>\n",
       "      <td>13</td>\n",
       "      <td>Work Day</td>\n",
       "      <td>Holiday</td>\n",
       "      <td>Work Day</td>\n",
       "      <td>93.14</td>\n",
       "      <td>99999</td>\n",
       "      <td>0.0</td>\n",
       "      <td>0.0</td>\n",
       "      <td>0.0</td>\n",
       "      <td>0.0</td>\n",
       "    </tr>\n",
       "  </tbody>\n",
       "</table>\n",
       "</div>"
      ],
      "text/plain": [
       "        date  store_nbr      family  sales  onpromotion   city      state  \\\n",
       "0 2013-01-01          1  AUTOMOTIVE    0.0            0  Quito  Pichincha   \n",
       "1 2013-01-01          1   BABY CARE    0.0            0  Quito  Pichincha   \n",
       "2 2013-01-01          1      BEAUTY    0.0            0  Quito  Pichincha   \n",
       "3 2013-01-01          1   BEVERAGES    0.0            0  Quito  Pichincha   \n",
       "4 2013-01-01          1       BOOKS    0.0            0  Quito  Pichincha   \n",
       "\n",
       "  type  cluster type_local type_national  type_reg  dcoilwtico  \\\n",
       "0    D       13   Work Day       Holiday  Work Day       93.14   \n",
       "1    D       13   Work Day       Holiday  Work Day       93.14   \n",
       "2    D       13   Work Day       Holiday  Work Day       93.14   \n",
       "3    D       13   Work Day       Holiday  Work Day       93.14   \n",
       "4    D       13   Work Day       Holiday  Work Day       93.14   \n",
       "\n",
       "   is_national_holiday  sales_1_year_ago  sales_1_month_ago  sales_2_week_ago  \\\n",
       "0                99999               0.0                0.0               0.0   \n",
       "1                99999               0.0                0.0               0.0   \n",
       "2                99999               0.0                0.0               0.0   \n",
       "3                99999               0.0                0.0               0.0   \n",
       "4                99999               0.0                0.0               0.0   \n",
       "\n",
       "   sales_1_week_ago  \n",
       "0               0.0  \n",
       "1               0.0  \n",
       "2               0.0  \n",
       "3               0.0  \n",
       "4               0.0  "
      ]
     },
     "execution_count": 11,
     "metadata": {},
     "output_type": "execute_result"
    }
   ],
   "source": [
    "train.head()"
   ]
  },
  {
   "cell_type": "markdown",
   "metadata": {},
   "source": [
    "* Let's create a feature **average_in_2_months** which will be the average of daily sales for the last 2 months."
   ]
  },
  {
   "cell_type": "code",
   "execution_count": 17,
   "metadata": {},
   "outputs": [],
   "source": [
    "# make 2 columns one with 63 days difference from the week end date and another with 7 days difference\n",
    "train['2_MONTH_BEFORE'] = train.date - timedelta(days=63)\n",
    "# current_date = train['date'].max()\n",
    "# two_months_ago = current_date - pd.DateOffset(months=2)\n",
    "# two_months_ago"
   ]
  },
  {
   "cell_type": "code",
   "execution_count": 18,
   "metadata": {},
   "outputs": [],
   "source": [
    "from tqdm._tqdm_notebook import tqdm_notebook\n",
    "tqdm_notebook.pandas()\n",
    "# calculate the average units in the period\n",
    "def get_average_sales(x):\n",
    "    data_2month = train[(train['date'] >= x['2_MONTH_BEFORE']) & (train['store_nbr'] == x['store_nbr']) & (train['family'] == x['family']) ]\n",
    "    return data_2month.sales.mean() \n",
    "\n",
    "# train[(train['date'] >= train['2_MONTH_BEFORE'])]"
   ]
  },
  {
   "cell_type": "code",
   "execution_count": 20,
   "metadata": {},
   "outputs": [],
   "source": [
    "# train['average_in_2_months'] = train.progress_apply(get_average_sales,axis=1)\n"
   ]
  },
  {
   "cell_type": "code",
   "execution_count": 21,
   "metadata": {},
   "outputs": [],
   "source": [
    "# fill the null values with 0\n",
    "# train.average_in_2_months.fillna(0,inplace=True)"
   ]
  },
  {
   "cell_type": "code",
   "execution_count": 22,
   "metadata": {},
   "outputs": [],
   "source": [
    "# drop the date columns that we have created, as they are of no use now.\n",
    "train.drop(columns=['2_MONTH_BEFORE'], inplace=True)"
   ]
  },
  {
   "cell_type": "code",
   "execution_count": 25,
   "metadata": {},
   "outputs": [
    {
     "data": {
      "text/plain": [
       "date                   datetime64[ns]\n",
       "store_nbr                       int64\n",
       "family                         object\n",
       "sales                         float64\n",
       "onpromotion                     int64\n",
       "city                           object\n",
       "state                          object\n",
       "type                           object\n",
       "cluster                         int64\n",
       "type_local                     object\n",
       "type_national                  object\n",
       "type_reg                       object\n",
       "dcoilwtico                    float64\n",
       "is_national_holiday             int64\n",
       "sales_1_year_ago              float64\n",
       "sales_1_month_ago             float64\n",
       "sales_2_week_ago              float64\n",
       "sales_1_week_ago              float64\n",
       "dtype: object"
      ]
     },
     "execution_count": 25,
     "metadata": {},
     "output_type": "execute_result"
    }
   ],
   "source": [
    "train.dtypes"
   ]
  },
  {
   "cell_type": "markdown",
   "metadata": {},
   "source": [
    "* Time related features"
   ]
  },
  {
   "cell_type": "code",
   "execution_count": 56,
   "metadata": {},
   "outputs": [],
   "source": [
    "train[\"year\"] = train.date.dt.year\n",
    "train[\"month\"] = train.date.dt.month\n",
    "train[\"quarter\"] = train.date.dt.quarter\n",
    "train[\"week_of_year\"] = train.date.dt.weekofyear\n",
    "train[\"day_of_year\"] = train.date.dt.dayofyear\n",
    "train[\"day_of_month\"] = train.date.dt.day\n",
    "train[\"day_of_week\"] = train.date.dt.weekday\n",
    "train[\"is_weekend\"] = train.date.dt.weekday >= 5\n",
    "train[\"is_wage_day\"] = train.date.apply(lambda x: (x.is_month_end == True) or (x.day == 15))\n",
    "train[\"is_year_end\"] = train.date.dt.is_year_end"
   ]
  },
  {
   "cell_type": "code",
   "execution_count": 57,
   "metadata": {},
   "outputs": [
    {
     "data": {
      "text/html": [
       "<div>\n",
       "<style scoped>\n",
       "    .dataframe tbody tr th:only-of-type {\n",
       "        vertical-align: middle;\n",
       "    }\n",
       "\n",
       "    .dataframe tbody tr th {\n",
       "        vertical-align: top;\n",
       "    }\n",
       "\n",
       "    .dataframe thead th {\n",
       "        text-align: right;\n",
       "    }\n",
       "</style>\n",
       "<table border=\"1\" class=\"dataframe\">\n",
       "  <thead>\n",
       "    <tr style=\"text-align: right;\">\n",
       "      <th></th>\n",
       "      <th>date</th>\n",
       "      <th>store_nbr</th>\n",
       "      <th>family</th>\n",
       "      <th>sales</th>\n",
       "      <th>onpromotion</th>\n",
       "      <th>city</th>\n",
       "      <th>state</th>\n",
       "      <th>type</th>\n",
       "      <th>cluster</th>\n",
       "      <th>type_local</th>\n",
       "      <th>...</th>\n",
       "      <th>year</th>\n",
       "      <th>month</th>\n",
       "      <th>quarter</th>\n",
       "      <th>week_of_year</th>\n",
       "      <th>day_of_year</th>\n",
       "      <th>day_of_month</th>\n",
       "      <th>day_of_week</th>\n",
       "      <th>is_weekend</th>\n",
       "      <th>is_wage_day</th>\n",
       "      <th>is_year_end</th>\n",
       "    </tr>\n",
       "  </thead>\n",
       "  <tbody>\n",
       "    <tr>\n",
       "      <th>0</th>\n",
       "      <td>2013-01-01</td>\n",
       "      <td>1</td>\n",
       "      <td>AUTOMOTIVE</td>\n",
       "      <td>0.0</td>\n",
       "      <td>0</td>\n",
       "      <td>Quito</td>\n",
       "      <td>Pichincha</td>\n",
       "      <td>D</td>\n",
       "      <td>13</td>\n",
       "      <td>Work Day</td>\n",
       "      <td>...</td>\n",
       "      <td>2013</td>\n",
       "      <td>1</td>\n",
       "      <td>1</td>\n",
       "      <td>1</td>\n",
       "      <td>1</td>\n",
       "      <td>1</td>\n",
       "      <td>1</td>\n",
       "      <td>False</td>\n",
       "      <td>False</td>\n",
       "      <td>False</td>\n",
       "    </tr>\n",
       "    <tr>\n",
       "      <th>1</th>\n",
       "      <td>2013-01-01</td>\n",
       "      <td>1</td>\n",
       "      <td>BABY CARE</td>\n",
       "      <td>0.0</td>\n",
       "      <td>0</td>\n",
       "      <td>Quito</td>\n",
       "      <td>Pichincha</td>\n",
       "      <td>D</td>\n",
       "      <td>13</td>\n",
       "      <td>Work Day</td>\n",
       "      <td>...</td>\n",
       "      <td>2013</td>\n",
       "      <td>1</td>\n",
       "      <td>1</td>\n",
       "      <td>1</td>\n",
       "      <td>1</td>\n",
       "      <td>1</td>\n",
       "      <td>1</td>\n",
       "      <td>False</td>\n",
       "      <td>False</td>\n",
       "      <td>False</td>\n",
       "    </tr>\n",
       "    <tr>\n",
       "      <th>2</th>\n",
       "      <td>2013-01-01</td>\n",
       "      <td>1</td>\n",
       "      <td>BEAUTY</td>\n",
       "      <td>0.0</td>\n",
       "      <td>0</td>\n",
       "      <td>Quito</td>\n",
       "      <td>Pichincha</td>\n",
       "      <td>D</td>\n",
       "      <td>13</td>\n",
       "      <td>Work Day</td>\n",
       "      <td>...</td>\n",
       "      <td>2013</td>\n",
       "      <td>1</td>\n",
       "      <td>1</td>\n",
       "      <td>1</td>\n",
       "      <td>1</td>\n",
       "      <td>1</td>\n",
       "      <td>1</td>\n",
       "      <td>False</td>\n",
       "      <td>False</td>\n",
       "      <td>False</td>\n",
       "    </tr>\n",
       "    <tr>\n",
       "      <th>3</th>\n",
       "      <td>2013-01-01</td>\n",
       "      <td>1</td>\n",
       "      <td>BEVERAGES</td>\n",
       "      <td>0.0</td>\n",
       "      <td>0</td>\n",
       "      <td>Quito</td>\n",
       "      <td>Pichincha</td>\n",
       "      <td>D</td>\n",
       "      <td>13</td>\n",
       "      <td>Work Day</td>\n",
       "      <td>...</td>\n",
       "      <td>2013</td>\n",
       "      <td>1</td>\n",
       "      <td>1</td>\n",
       "      <td>1</td>\n",
       "      <td>1</td>\n",
       "      <td>1</td>\n",
       "      <td>1</td>\n",
       "      <td>False</td>\n",
       "      <td>False</td>\n",
       "      <td>False</td>\n",
       "    </tr>\n",
       "    <tr>\n",
       "      <th>4</th>\n",
       "      <td>2013-01-01</td>\n",
       "      <td>1</td>\n",
       "      <td>BOOKS</td>\n",
       "      <td>0.0</td>\n",
       "      <td>0</td>\n",
       "      <td>Quito</td>\n",
       "      <td>Pichincha</td>\n",
       "      <td>D</td>\n",
       "      <td>13</td>\n",
       "      <td>Work Day</td>\n",
       "      <td>...</td>\n",
       "      <td>2013</td>\n",
       "      <td>1</td>\n",
       "      <td>1</td>\n",
       "      <td>1</td>\n",
       "      <td>1</td>\n",
       "      <td>1</td>\n",
       "      <td>1</td>\n",
       "      <td>False</td>\n",
       "      <td>False</td>\n",
       "      <td>False</td>\n",
       "    </tr>\n",
       "  </tbody>\n",
       "</table>\n",
       "<p>5 rows × 28 columns</p>\n",
       "</div>"
      ],
      "text/plain": [
       "        date  store_nbr      family  sales  onpromotion   city      state  \\\n",
       "0 2013-01-01          1  AUTOMOTIVE    0.0            0  Quito  Pichincha   \n",
       "1 2013-01-01          1   BABY CARE    0.0            0  Quito  Pichincha   \n",
       "2 2013-01-01          1      BEAUTY    0.0            0  Quito  Pichincha   \n",
       "3 2013-01-01          1   BEVERAGES    0.0            0  Quito  Pichincha   \n",
       "4 2013-01-01          1       BOOKS    0.0            0  Quito  Pichincha   \n",
       "\n",
       "  type  cluster type_local  ...  year month  quarter  week_of_year  \\\n",
       "0    D       13   Work Day  ...  2013     1        1             1   \n",
       "1    D       13   Work Day  ...  2013     1        1             1   \n",
       "2    D       13   Work Day  ...  2013     1        1             1   \n",
       "3    D       13   Work Day  ...  2013     1        1             1   \n",
       "4    D       13   Work Day  ...  2013     1        1             1   \n",
       "\n",
       "   day_of_year  day_of_month  day_of_week  is_weekend  is_wage_day  \\\n",
       "0            1             1            1       False        False   \n",
       "1            1             1            1       False        False   \n",
       "2            1             1            1       False        False   \n",
       "3            1             1            1       False        False   \n",
       "4            1             1            1       False        False   \n",
       "\n",
       "   is_year_end  \n",
       "0        False  \n",
       "1        False  \n",
       "2        False  \n",
       "3        False  \n",
       "4        False  \n",
       "\n",
       "[5 rows x 28 columns]"
      ]
     },
     "execution_count": 57,
     "metadata": {},
     "output_type": "execute_result"
    }
   ],
   "source": [
    "train.head()"
   ]
  },
  {
   "cell_type": "code",
   "execution_count": 73,
   "metadata": {},
   "outputs": [
    {
     "data": {
      "text/plain": [
       "Work Day      2989008\n",
       "Holiday          8085\n",
       "Additional       3696\n",
       "Transfer           99\n",
       "Name: type_local, dtype: int64"
      ]
     },
     "execution_count": 73,
     "metadata": {},
     "output_type": "execute_result"
    }
   ],
   "source": [
    "train.type_local.value_counts()"
   ]
  },
  {
   "cell_type": "code",
   "execution_count": 68,
   "metadata": {},
   "outputs": [
    {
     "data": {
      "text/plain": [
       "0    2989008\n",
       "1      11880\n",
       "Name: is_local_holiday, dtype: int64"
      ]
     },
     "execution_count": 68,
     "metadata": {},
     "output_type": "execute_result"
    }
   ],
   "source": [
    "# Let's create a column to indicate if there was a holiday on the date\n",
    "train['is_local_holiday'] = train.type_local.apply(lambda x: 1 if x in ('Holiday', 'Additional', 'Transfer') else 0)\n",
    "train.is_local_holiday.fillna(0, inplace=True)\n",
    "train.is_local_holiday.value_counts()"
   ]
  },
  {
   "cell_type": "code",
   "execution_count": 71,
   "metadata": {},
   "outputs": [
    {
     "data": {
      "text/plain": [
       "Work Day    2999865\n",
       "Holiday        1023\n",
       "Name: type_reg, dtype: int64"
      ]
     },
     "execution_count": 71,
     "metadata": {},
     "output_type": "execute_result"
    }
   ],
   "source": [
    "train.type_reg.value_counts()"
   ]
  },
  {
   "cell_type": "code",
   "execution_count": 74,
   "metadata": {},
   "outputs": [
    {
     "data": {
      "text/plain": [
       "0    2999865\n",
       "1       1023\n",
       "Name: is_reg_holiday, dtype: int64"
      ]
     },
     "execution_count": 74,
     "metadata": {},
     "output_type": "execute_result"
    }
   ],
   "source": [
    "# Let's create a column to indicate if there was a holiday on the date\n",
    "train['is_reg_holiday'] = train.type_reg.apply(lambda x: 1 if x in ('Holiday') else 0)\n",
    "train.is_reg_holiday.fillna(0, inplace=True)\n",
    "train.is_reg_holiday.value_counts()"
   ]
  },
  {
   "cell_type": "code",
   "execution_count": 79,
   "metadata": {},
   "outputs": [],
   "source": [
    "train_final = train.drop(columns=['date', 'sales_1_year_ago', 'sales_1_month_ago',\n",
    "       'sales_2_week_ago', 'sales_1_week_ago'])"
   ]
  },
  {
   "cell_type": "code",
   "execution_count": 80,
   "metadata": {},
   "outputs": [
    {
     "data": {
      "text/plain": [
       "Index(['store_nbr', 'family', 'sales', 'onpromotion', 'city', 'state', 'type',\n",
       "       'cluster', 'type_local', 'type_national', 'type_reg', 'dcoilwtico',\n",
       "       'is_national_holiday', 'year', 'month', 'quarter', 'week_of_year',\n",
       "       'day_of_year', 'day_of_month', 'day_of_week', 'is_weekend',\n",
       "       'is_wage_day', 'is_year_end', 'is_local_holiday', 'is_reg_holiday'],\n",
       "      dtype='object')"
      ]
     },
     "execution_count": 80,
     "metadata": {},
     "output_type": "execute_result"
    }
   ],
   "source": [
    "train_final.columns"
   ]
  },
  {
   "cell_type": "code",
   "execution_count": 81,
   "metadata": {},
   "outputs": [
    {
     "data": {
      "text/plain": [
       "(3000888, 25)"
      ]
     },
     "execution_count": 81,
     "metadata": {},
     "output_type": "execute_result"
    }
   ],
   "source": [
    "train_final.shape"
   ]
  },
  {
   "cell_type": "code",
   "execution_count": 62,
   "metadata": {},
   "outputs": [],
   "source": [
    "test.date = pd.to_datetime(test.date)\n",
    "test[\"year\"] = test.date.dt.year\n",
    "test[\"month\"] = test.date.dt.month\n",
    "test[\"quarter\"] = test.date.dt.quarter\n",
    "test[\"week_of_year\"] = test.date.dt.weekofyear\n",
    "test[\"day_of_year\"] = test.date.dt.dayofyear\n",
    "test[\"day_of_month\"] = test.date.dt.day\n",
    "test[\"day_of_week\"] = test.date.dt.weekday\n",
    "test[\"is_weekend\"] = test.date.dt.weekday >= 5\n",
    "test[\"is_wage_day\"] = test.date.apply(lambda x: (x.is_month_end == True) or (x.day == 15))\n",
    "test[\"is_year_end\"] = test.date.dt.is_year_end"
   ]
  },
  {
   "cell_type": "code",
   "execution_count": 82,
   "metadata": {},
   "outputs": [
    {
     "name": "stdout",
     "output_type": "stream",
     "text": [
      "0    28446\n",
      "1       66\n",
      "Name: is_local_holiday, dtype: int64\n",
      "0    28512\n",
      "Name: is_reg_holiday, dtype: int64\n",
      "0    28512\n",
      "Name: is_national_holiday, dtype: int64\n"
     ]
    }
   ],
   "source": [
    "# Let's create a column to indicate if there was a holiday on the date\n",
    "test['is_local_holiday'] = test.type_local.apply(lambda x: 1 if x in ('Holiday', 'Additional', 'Transfer') else 0)\n",
    "test.is_local_holiday.fillna(0, inplace=True)\n",
    "print(test.is_local_holiday.value_counts())\n",
    "\n",
    "test['is_reg_holiday'] = test.type_reg.apply(lambda x: 1 if x in ('Holiday') else 0)\n",
    "test.is_reg_holiday.fillna(0, inplace=True)\n",
    "print(test.is_reg_holiday.value_counts())\n",
    "\n",
    "test['is_national_holiday'] = test.type_national.apply(lambda x: 1 if x in ('Holiday', 'Additional', 'Transfer', 'Event', 'Bridge') else 0)\n",
    "test.is_national_holiday.fillna(0, inplace=True)\n",
    "print(test.is_national_holiday.value_counts())"
   ]
  },
  {
   "cell_type": "code",
   "execution_count": 83,
   "metadata": {},
   "outputs": [
    {
     "data": {
      "text/plain": [
       "Index(['id', 'date', 'store_nbr', 'family', 'onpromotion', 'city', 'state',\n",
       "       'type', 'cluster', 'type_local', 'type_national', 'type_reg',\n",
       "       'dcoilwtico', 'year', 'month', 'quarter', 'week_of_year', 'day_of_year',\n",
       "       'day_of_month', 'day_of_week', 'is_weekend', 'is_wage_day',\n",
       "       'is_year_end', 'is_local_holiday', 'is_reg_holiday',\n",
       "       'is_national_holiday'],\n",
       "      dtype='object')"
      ]
     },
     "execution_count": 83,
     "metadata": {},
     "output_type": "execute_result"
    }
   ],
   "source": [
    "test.columns"
   ]
  },
  {
   "cell_type": "code",
   "execution_count": 84,
   "metadata": {},
   "outputs": [
    {
     "data": {
      "text/plain": [
       "(28512, 25)"
      ]
     },
     "execution_count": 84,
     "metadata": {},
     "output_type": "execute_result"
    }
   ],
   "source": [
    "test_final = test.drop(columns=['date'])\n",
    "test_final.shape "
   ]
  },
  {
   "cell_type": "code",
   "execution_count": 85,
   "metadata": {},
   "outputs": [],
   "source": [
    "test.to_csv('../../input/store_sales_time_series_forecasting/test_with_features.csv', index=False)\n",
    "train.to_csv('../../input/store_sales_time_series_forecasting/train_with_features.csv', index=False)"
   ]
  },
  {
   "cell_type": "code",
   "execution_count": null,
   "metadata": {},
   "outputs": [],
   "source": []
  }
 ],
 "metadata": {
  "kernelspec": {
   "display_name": "base",
   "language": "python",
   "name": "python3"
  },
  "language_info": {
   "codemirror_mode": {
    "name": "ipython",
    "version": 3
   },
   "file_extension": ".py",
   "mimetype": "text/x-python",
   "name": "python",
   "nbconvert_exporter": "python",
   "pygments_lexer": "ipython3",
   "version": "3.9.13"
  },
  "orig_nbformat": 4
 },
 "nbformat": 4,
 "nbformat_minor": 2
}
